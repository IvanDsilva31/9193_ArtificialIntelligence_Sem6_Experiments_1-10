{
  "nbformat": 4,
  "nbformat_minor": 0,
  "metadata": {
    "colab": {
      "provenance": []
    },
    "kernelspec": {
      "name": "python3",
      "display_name": "Python 3"
    },
    "language_info": {
      "name": "python"
    }
  },
  "cells": [
    {
      "cell_type": "markdown",
      "source": [
        "#Use Greedy Best-First Search for solving the Missionaries and Cannibals problem in Python\n",
        "By Ivan Dsilva - 9193"
      ],
      "metadata": {
        "id": "rrMZVrUWmg9v"
      }
    },
    {
      "cell_type": "code",
      "execution_count": 1,
      "metadata": {
        "colab": {
          "base_uri": "https://localhost:8080/"
        },
        "id": "Fb0K9WJHmbiT",
        "outputId": "187dcc03-293f-474b-fea1-37b01e2cba91"
      },
      "outputs": [
        {
          "output_type": "stream",
          "name": "stdout",
          "text": [
            "Step 1: 3M 3C 0B --- 0M 0C\n",
            "Step 2: 3M 1C 1B --- 0M 2C\n",
            "Step 3: 1M 1C 1B --- 2M 2C\n",
            "The problem is solvable!\n"
          ]
        }
      ],
      "source": [
        "from queue import PriorityQueue\n",
        "\n",
        "class State:\n",
        "    def __init__(self, m_left, c_left, b, m_right, c_right):\n",
        "        self.m_left = m_left\n",
        "        self.c_left = c_left\n",
        "        self.b = b\n",
        "        self.m_right = m_right\n",
        "        self.c_right = c_right\n",
        "    \n",
        "    def is_valid(self):\n",
        "        if self.m_left < 0 or self.c_left < 0 or self.m_right < 0 or self.c_right < 0:\n",
        "            return False\n",
        "        if self.m_left != 0 and self.m_left < self.c_left:\n",
        "            return False\n",
        "        if self.m_right != 0 and self.m_right < self.c_right:\n",
        "            return False\n",
        "        return True\n",
        "    \n",
        "    def is_goal(self):\n",
        "        return self.m_left == 0 and self.c_left == 0\n",
        "    \n",
        "    def generate_next_states(self):\n",
        "        next_states = [\n",
        "            State(self.m_left - 2, self.c_left, 1, self.m_right + 2, self.c_right),\n",
        "            State(self.m_left, self.c_left - 2, 1, self.m_right, self.c_right + 2),\n",
        "            State(self.m_left - 1, self.c_left - 1, 1, self.m_right + 1, self.c_right + 1),\n",
        "            State(self.m_left - 1, self.c_left, 1, self.m_right + 1, self.c_right),\n",
        "            State(self.m_left, self.c_left - 1, 1, self.m_right, self.c_right + 1)\n",
        "        ]\n",
        "        return [state for state in next_states if state.is_valid()]\n",
        "    \n",
        "    def heuristic_cost(self):\n",
        "        return (self.m_left + self.c_left) // 2\n",
        "    \n",
        "    def __lt__(self, other):\n",
        "        return self.heuristic_cost() < other.heuristic_cost()\n",
        "\n",
        "def solve():\n",
        "    initial_state = State(3, 3, 0, 0, 0)\n",
        "    frontier = PriorityQueue()\n",
        "    frontier.put(initial_state)\n",
        "    explored_set = set()\n",
        "    steps = 1\n",
        "    while not frontier.empty():\n",
        "        current_state = frontier.get()\n",
        "        if current_state.is_goal():\n",
        "            return True\n",
        "        explored_set.add(current_state)\n",
        "        next_states = current_state.generate_next_states()\n",
        "        for next_state in next_states:\n",
        "            if next_state not in explored_set:\n",
        "                frontier.put(next_state)\n",
        "        # print the current state and the number of steps\n",
        "        print(f\"Step {steps}: {current_state.m_left}M {current_state.c_left}C {current_state.b}B --- {current_state.m_right}M {current_state.c_right}C\")\n",
        "        steps += 1\n",
        "    return False\n",
        "\n",
        "if solve():\n",
        "    print(\"The problem is solvable!\")\n",
        "else:\n",
        "    print(\"The problem is unsolvable!\")\n"
      ]
    }
  ]
}